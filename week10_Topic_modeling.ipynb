{
 "cells": [
  {
   "cell_type": "code",
   "execution_count": 53,
   "id": "50f2d485",
   "metadata": {},
   "outputs": [],
   "source": [
    "import gensim\n",
    "from gensim import corpora\n",
    "from gensim import models\n",
    "from gensim.models import CoherenceModel\n",
    "import matplotlib.pyplot as plt"
   ]
  },
  {
   "cell_type": "markdown",
   "id": "018dd557",
   "metadata": {},
   "source": [
    "# 1. Data import"
   ]
  },
  {
   "cell_type": "code",
   "execution_count": 40,
   "id": "1b311939",
   "metadata": {},
   "outputs": [],
   "source": [
    "file = open('data_week10.txt', 'r')\n",
    "data_lst = []\n",
    "\n",
    "while True:\n",
    "    line = file.readline()\n",
    "    if not line:\n",
    "        break\n",
    "    data_lst.append(line.strip())\n",
    "    \n",
    "file.close()"
   ]
  },
  {
   "cell_type": "code",
   "execution_count": 41,
   "id": "50cac092",
   "metadata": {},
   "outputs": [
    {
     "data": {
      "text/plain": [
       "['cute kitty',\n",
       " 'eat rice cake',\n",
       " 'kitty hamster',\n",
       " 'eat bread',\n",
       " 'rice bread cake',\n",
       " 'cute hamster eat bread cake']"
      ]
     },
     "execution_count": 41,
     "metadata": {},
     "output_type": "execute_result"
    }
   ],
   "source": [
    "data_lst"
   ]
  },
  {
   "cell_type": "markdown",
   "id": "3e131fe4",
   "metadata": {},
   "source": [
    "# 2. 토큰화 및 벡터화 (사전생성 및 말뭉치 생성)"
   ]
  },
  {
   "cell_type": "code",
   "execution_count": 43,
   "id": "ed6891e3",
   "metadata": {
    "scrolled": true
   },
   "outputs": [
    {
     "name": "stdout",
     "output_type": "stream",
     "text": [
      "Dictionary(7 unique tokens: ['cute', 'kitty', 'cake', 'eat', 'rice']...)\n"
     ]
    }
   ],
   "source": [
    "texts = [[word for word in document.split()]\n",
    "        for document in data_lst]\n",
    "\n",
    "dictionary = corpora.Dictionary(texts)                    # 사전 생성 (토큰화)\n",
    "print(dictionary)"
   ]
  },
  {
   "cell_type": "markdown",
   "id": "48679629",
   "metadata": {},
   "source": [
    "7 unique tokesn: ['cute', 'kitty', 'cake', 'eat', 'rice', 'bread', 'hamster']"
   ]
  },
  {
   "cell_type": "code",
   "execution_count": 45,
   "id": "0bea0607",
   "metadata": {},
   "outputs": [
    {
     "name": "stdout",
     "output_type": "stream",
     "text": [
      "corpus : [[(0, 1), (1, 1)], [(2, 1), (3, 1), (4, 1)], [(1, 1), (5, 1)], [(3, 1), (6, 1)], [(2, 1), (4, 1), (6, 1)], [(0, 1), (2, 1), (3, 1), (5, 1), (6, 1)]]\n"
     ]
    }
   ],
   "source": [
    "corpus = [dictionary.doc2bow(text) for text in texts]     # 말뭉치 생성 (벡터화)\n",
    "print('corpus : {}'.format(corpus))"
   ]
  },
  {
   "cell_type": "markdown",
   "id": "6fece336",
   "metadata": {},
   "source": [
    "# 3. 토픽 수 결정\n",
    "\n"
   ]
  },
  {
   "cell_type": "code",
   "execution_count": 50,
   "id": "6f159a39",
   "metadata": {},
   "outputs": [],
   "source": [
    "perplexity_values = []\n",
    "for i in range(2, 8):\n",
    "    ldamodel = gensim.models.ldamodel.LdaModel(corpus, num_topics = i, \n",
    "                                               id2word = dictionary)\n",
    "    perplexity_values.append(ldamodel.log_perplexity(corpus))"
   ]
  },
  {
   "cell_type": "code",
   "execution_count": 51,
   "id": "27458340",
   "metadata": {},
   "outputs": [
    {
     "data": {
      "image/png": "[encoded data removed]",
      "text/plain": [
       "<Figure size 432x288 with 1 Axes>"
      ]
     },
     "metadata": {
      "needs_background": "light"
     },
     "output_type": "display_data"
    }
   ],
   "source": [
    "x = range(2, 8)\n",
    "plt.plot(x, perplexity_values)\n",
    "plt.xlabel('number of topics')\n",
    "plt.ylabel('perplexity score')\n",
    "plt.show()"
   ]
  },
  {
   "cell_type": "code",
   "execution_count": 61,
   "id": "3063f68f",
   "metadata": {},
   "outputs": [],
   "source": [
    "coherence_values = []\n",
    "for i in range(2, 8):\n",
    "    ldamodel = gensim.models.ldamodel.LdaModel(corpus, num_topics = i, \n",
    "                                               id2word = dictionary)\n",
    "    \n",
    "    coherence_model_lda = CoherenceModel(model=ldamodel, texts=texts,\n",
    "                                        dictionary = dictionary, topn=3)\n",
    "    \n",
    "    coherence_lda = coherence_model_lda.get_coherence()\n",
    "    \n",
    "    coherence_values.append(coherence_lda)"
   ]
  },
  {
   "cell_type": "code",
   "execution_count": 62,
   "id": "58ec3d48",
   "metadata": {},
   "outputs": [
    {
     "data": {
      "image/png": "[encoded data removed]",
      "text/plain": [
       "<Figure size 432x288 with 1 Axes>"
      ]
     },
     "metadata": {
      "needs_background": "light"
     },
     "output_type": "display_data"
    }
   ],
   "source": [
    "x = range(2, 8)\n",
    "plt.plot(x, coherence_values)\n",
    "plt.xlabel('number of topics')\n",
    "plt.ylabel('coherence score')\n",
    "plt.show()"
   ]
  },
  {
   "cell_type": "code",
   "execution_count": 74,
   "id": "f9e851e3",
   "metadata": {},
   "outputs": [
    {
     "name": "stdout",
     "output_type": "stream",
     "text": [
      "Num Topics = 2  has Coherence Value of 0.616\n",
      "Num Topics = 3  has Coherence Value of 0.6177\n",
      "Num Topics = 4  has Coherence Value of 0.506\n",
      "Num Topics = 5  has Coherence Value of 0.5832\n",
      "Num Topics = 6  has Coherence Value of 0.6135\n",
      "Num Topics = 7  has Coherence Value of 0.5146\n"
     ]
    }
   ],
   "source": [
    "for m, cv in zip(x, coherence_values):\n",
    "    print(\"Num Topics =\", m, \" has Coherence Value of\", round(cv, 4))"
   ]
  },
  {
   "cell_type": "markdown",
   "id": "2fc7ce50",
   "metadata": {},
   "source": [
    "# 4. 토픽 모델링"
   ]
  },
  {
   "cell_type": "code",
   "execution_count": 87,
   "id": "471d8ba0",
   "metadata": {},
   "outputs": [
    {
     "name": "stdout",
     "output_type": "stream",
     "text": [
      "(0, '0.206*\"kitty\" + 0.204*\"eat\" + 0.202*\"hamster\"')\n",
      "(1, '0.277*\"kitty\" + 0.270*\"cute\" + 0.095*\"bread\"')\n",
      "(2, '0.245*\"cake\" + 0.176*\"bread\" + 0.174*\"eat\"')\n"
     ]
    }
   ],
   "source": [
    "lda = models.ldamodel.LdaModel(corpus=corpus, id2word=dictionary, \n",
    "        num_topics=3)                   # 모델구축\n",
    "\n",
    "for t in lda.show_topics(num_words = 3):  # 주제마다 출현 확률이 높은 단어 순으로 출력\n",
    "    print(t)"
   ]
  }
 ],
 "metadata": {
  "kernelspec": {
   "display_name": "Python 3 (ipykernel)",
   "language": "python",
   "name": "python3"
  },
  "language_info": {
   "codemirror_mode": {
    "name": "ipython",
    "version": 3
   },
   "file_extension": ".py",
   "mimetype": "text/x-python",
   "name": "python",
   "nbconvert_exporter": "python",
   "pygments_lexer": "ipython3",
   "version": "3.8.12"
  }
 },
 "nbformat": 4,
 "nbformat_minor": 5
}
