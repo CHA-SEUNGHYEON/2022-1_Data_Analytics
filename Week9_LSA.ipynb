{
 "cells": [
  {
   "cell_type": "code",
   "execution_count": 5,
   "id": "69221268",
   "metadata": {},
   "outputs": [],
   "source": [
    "import pandas as pd\n",
    "import numpy as np\n",
    "import csv"
   ]
  },
  {
   "cell_type": "markdown",
   "id": "a42b40a0",
   "metadata": {},
   "source": [
    "### constraints 1) Term-document matrix를 TF-IDF matrix로 변환한 후 LSA를 수행할 것"
   ]
  },
  {
   "cell_type": "code",
   "execution_count": 3,
   "id": "66893228",
   "metadata": {},
   "outputs": [
    {
     "data": {
      "text/html": [
       "<div>\n",
       "<style scoped>\n",
       "    .dataframe tbody tr th:only-of-type {\n",
       "        vertical-align: middle;\n",
       "    }\n",
       "\n",
       "    .dataframe tbody tr th {\n",
       "        vertical-align: top;\n",
       "    }\n",
       "\n",
       "    .dataframe thead th {\n",
       "        text-align: right;\n",
       "    }\n",
       "</style>\n",
       "<table border=\"1\" class=\"dataframe\">\n",
       "  <thead>\n",
       "    <tr style=\"text-align: right;\">\n",
       "      <th></th>\n",
       "      <th>Unnamed: 0</th>\n",
       "      <th>D1</th>\n",
       "      <th>D2</th>\n",
       "      <th>D3</th>\n",
       "      <th>D4</th>\n",
       "      <th>D5</th>\n",
       "      <th>D6</th>\n",
       "      <th>D7</th>\n",
       "      <th>D8</th>\n",
       "      <th>D9</th>\n",
       "      <th>D10</th>\n",
       "    </tr>\n",
       "  </thead>\n",
       "  <tbody>\n",
       "    <tr>\n",
       "      <th>0</th>\n",
       "      <td>database</td>\n",
       "      <td>11</td>\n",
       "      <td>21</td>\n",
       "      <td>12</td>\n",
       "      <td>0</td>\n",
       "      <td>37</td>\n",
       "      <td>2</td>\n",
       "      <td>0</td>\n",
       "      <td>3</td>\n",
       "      <td>1</td>\n",
       "      <td>6</td>\n",
       "    </tr>\n",
       "    <tr>\n",
       "      <th>1</th>\n",
       "      <td>SQL</td>\n",
       "      <td>21</td>\n",
       "      <td>10</td>\n",
       "      <td>0</td>\n",
       "      <td>7</td>\n",
       "      <td>31</td>\n",
       "      <td>0</td>\n",
       "      <td>0</td>\n",
       "      <td>21</td>\n",
       "      <td>5</td>\n",
       "      <td>0</td>\n",
       "    </tr>\n",
       "    <tr>\n",
       "      <th>2</th>\n",
       "      <td>index</td>\n",
       "      <td>9</td>\n",
       "      <td>0</td>\n",
       "      <td>5</td>\n",
       "      <td>2</td>\n",
       "      <td>20</td>\n",
       "      <td>0</td>\n",
       "      <td>1</td>\n",
       "      <td>0</td>\n",
       "      <td>11</td>\n",
       "      <td>0</td>\n",
       "    </tr>\n",
       "    <tr>\n",
       "      <th>3</th>\n",
       "      <td>regression</td>\n",
       "      <td>3</td>\n",
       "      <td>5</td>\n",
       "      <td>2</td>\n",
       "      <td>2</td>\n",
       "      <td>0</td>\n",
       "      <td>18</td>\n",
       "      <td>32</td>\n",
       "      <td>11</td>\n",
       "      <td>21</td>\n",
       "      <td>8</td>\n",
       "    </tr>\n",
       "    <tr>\n",
       "      <th>4</th>\n",
       "      <td>likelihood</td>\n",
       "      <td>0</td>\n",
       "      <td>3</td>\n",
       "      <td>0</td>\n",
       "      <td>0</td>\n",
       "      <td>3</td>\n",
       "      <td>7</td>\n",
       "      <td>12</td>\n",
       "      <td>4</td>\n",
       "      <td>27</td>\n",
       "      <td>4</td>\n",
       "    </tr>\n",
       "    <tr>\n",
       "      <th>5</th>\n",
       "      <td>linear</td>\n",
       "      <td>3</td>\n",
       "      <td>0</td>\n",
       "      <td>0</td>\n",
       "      <td>4</td>\n",
       "      <td>0</td>\n",
       "      <td>16</td>\n",
       "      <td>21</td>\n",
       "      <td>2</td>\n",
       "      <td>16</td>\n",
       "      <td>15</td>\n",
       "    </tr>\n",
       "  </tbody>\n",
       "</table>\n",
       "</div>"
      ],
      "text/plain": [
       "   Unnamed: 0  D1  D2  D3  D4  D5  D6  D7  D8  D9  D10\n",
       "0    database  11  21  12   0  37   2   0   3   1    6\n",
       "1         SQL  21  10   0   7  31   0   0  21   5    0\n",
       "2       index   9   0   5   2  20   0   1   0  11    0\n",
       "3  regression   3   5   2   2   0  18  32  11  21    8\n",
       "4  likelihood   0   3   0   0   3   7  12   4  27    4\n",
       "5      linear   3   0   0   4   0  16  21   2  16   15"
      ]
     },
     "execution_count": 3,
     "metadata": {},
     "output_type": "execute_result"
    }
   ],
   "source": [
    "df = pd.read_csv(r'data_week9.csv')\n",
    "df"
   ]
  },
  {
   "cell_type": "code",
   "execution_count": 6,
   "id": "5725757e",
   "metadata": {},
   "outputs": [
    {
     "name": "stdout",
     "output_type": "stream",
     "text": [
      "['', 'D1', 'D2', 'D3', 'D4', 'D5', 'D6', 'D7', 'D8', 'D9', 'D10']\n",
      "['database', '11', '21', '12', '0', '37', '2', '0', '3', '1', '6']\n",
      "['SQL', '21', '10', '0', '7', '31', '0', '0', '21', '5', '0']\n",
      "['index', '9', '0', '5', '2', '20', '0', '1', '0', '11', '0']\n",
      "['regression', '3', '5', '2', '2', '0', '18', '32', '11', '21', '8']\n",
      "['likelihood', '0', '3', '0', '0', '3', '7', '12', '4', '27', '4']\n",
      "['linear', '3', '0', '0', '4', '0', '16', '21', '2', '16', '15']\n"
     ]
    }
   ],
   "source": [
    "f = open('data_week9.csv', encoding='utf-8')\n",
    "reader = csv.reader(f)\n",
    "tf_lst = []\n",
    "for line in reader:\n",
    "    print(line)\n",
    "    tf_lst.append(line[1:])\n",
    "f.close()"
   ]
  },
  {
   "cell_type": "code",
   "execution_count": 7,
   "id": "03ac200d",
   "metadata": {},
   "outputs": [
    {
     "data": {
      "text/plain": [
       "[['D1', 'D2', 'D3', 'D4', 'D5', 'D6', 'D7', 'D8', 'D9', 'D10'],\n",
       " ['11', '21', '12', '0', '37', '2', '0', '3', '1', '6'],\n",
       " ['21', '10', '0', '7', '31', '0', '0', '21', '5', '0'],\n",
       " ['9', '0', '5', '2', '20', '0', '1', '0', '11', '0'],\n",
       " ['3', '5', '2', '2', '0', '18', '32', '11', '21', '8'],\n",
       " ['0', '3', '0', '0', '3', '7', '12', '4', '27', '4'],\n",
       " ['3', '0', '0', '4', '0', '16', '21', '2', '16', '15']]"
      ]
     },
     "execution_count": 7,
     "metadata": {},
     "output_type": "execute_result"
    }
   ],
   "source": [
    "tf_lst"
   ]
  },
  {
   "cell_type": "code",
   "execution_count": 10,
   "id": "7893f3bd",
   "metadata": {},
   "outputs": [
    {
     "data": {
      "text/plain": [
       "array([[11., 21., 12.,  0., 37.,  2.,  0.,  3.,  1.,  6.],\n",
       "       [21., 10.,  0.,  7., 31.,  0.,  0., 21.,  5.,  0.],\n",
       "       [ 9.,  0.,  5.,  2., 20.,  0.,  1.,  0., 11.,  0.],\n",
       "       [ 3.,  5.,  2.,  2.,  0., 18., 32., 11., 21.,  8.],\n",
       "       [ 0.,  3.,  0.,  0.,  3.,  7., 12.,  4., 27.,  4.],\n",
       "       [ 3.,  0.,  0.,  4.,  0., 16., 21.,  2., 16., 15.]])"
      ]
     },
     "execution_count": 10,
     "metadata": {},
     "output_type": "execute_result"
    }
   ],
   "source": [
    "tf_lst_1 = tf_lst[1:]\n",
    "\n",
    "A = np.array(tf_lst_1).astype(np.float64)\n",
    "A"
   ]
  },
  {
   "cell_type": "code",
   "execution_count": 21,
   "id": "00a4182b",
   "metadata": {},
   "outputs": [
    {
     "data": {
      "text/plain": [
       "array([[11., 21., 12.,  0., 37.,  2.,  0.,  3.,  1.,  6.],\n",
       "       [21., 10.,  0.,  7., 31.,  0.,  0., 21.,  5.,  0.],\n",
       "       [ 9.,  0.,  5.,  2., 20.,  0.,  1.,  0., 11.,  0.],\n",
       "       [ 3.,  5.,  2.,  2.,  0., 18., 32., 11., 21.,  8.],\n",
       "       [ 0.,  3.,  0.,  0.,  3.,  7., 12.,  4., 27.,  4.],\n",
       "       [ 3.,  0.,  0.,  4.,  0., 16., 21.,  2., 16., 15.]])"
      ]
     },
     "execution_count": 21,
     "metadata": {},
     "output_type": "execute_result"
    }
   ],
   "source": [
    "np.array(A)"
   ]
  },
  {
   "cell_type": "code",
   "execution_count": 36,
   "id": "8f863e0c",
   "metadata": {},
   "outputs": [],
   "source": [
    "count = []\n",
    "\n",
    "for i in range(len(tf_lst_1)):\n",
    "    counts = 0\n",
    "    for j in range(10):\n",
    "        if A[i][j] > 0:\n",
    "            counts += 1\n",
    "    count.append(counts)"
   ]
  },
  {
   "cell_type": "code",
   "execution_count": 37,
   "id": "e770f90f",
   "metadata": {},
   "outputs": [
    {
     "data": {
      "text/plain": [
       "[8, 6, 6, 9, 7, 7]"
      ]
     },
     "execution_count": 37,
     "metadata": {},
     "output_type": "execute_result"
    }
   ],
   "source": [
    "count"
   ]
  },
  {
   "cell_type": "code",
   "execution_count": 39,
   "id": "1b61908e",
   "metadata": {
    "scrolled": true
   },
   "outputs": [
    {
     "data": {
      "text/plain": [
       "[0.8109302162163288,\n",
       " 0.9808292530117263,\n",
       " 0.9808292530117263,\n",
       " 0.7472144018302211,\n",
       " 0.8873031950009029,\n",
       " 0.8873031950009029]"
      ]
     },
     "execution_count": 39,
     "metadata": {},
     "output_type": "execute_result"
    }
   ],
   "source": [
    "idf = list(map(lambda i : np.log(1+(10/i)), count))\n",
    "idf"
   ]
  },
  {
   "cell_type": "code",
   "execution_count": 57,
   "id": "adc0d326",
   "metadata": {},
   "outputs": [],
   "source": [
    "B = A.copy()"
   ]
  },
  {
   "cell_type": "code",
   "execution_count": 58,
   "id": "8e0289be",
   "metadata": {},
   "outputs": [],
   "source": [
    "for i in range(len(idf)):\n",
    "    B[i] = B[i] * idf[i]"
   ]
  },
  {
   "cell_type": "code",
   "execution_count": 59,
   "id": "47e46dc5",
   "metadata": {},
   "outputs": [
    {
     "data": {
      "text/plain": [
       "array([[ 8.92023238, 17.02953454,  9.73116259,  0.        , 30.004418  ,\n",
       "         1.62186043,  0.        ,  2.43279065,  0.81093022,  4.8655813 ],\n",
       "       [20.59741431,  9.80829253,  0.        ,  6.86580477, 30.40570684,\n",
       "         0.        ,  0.        , 20.59741431,  4.90414627,  0.        ],\n",
       "       [ 8.82746328,  0.        ,  4.90414627,  1.96165851, 19.61658506,\n",
       "         0.        ,  0.98082925,  0.        , 10.78912178,  0.        ],\n",
       "       [ 2.24164321,  3.73607201,  1.4944288 ,  1.4944288 ,  0.        ,\n",
       "        13.44985923, 23.91086086,  8.21935842, 15.69150244,  5.97771521],\n",
       "       [ 0.        ,  2.66190959,  0.        ,  0.        ,  2.66190959,\n",
       "         6.21112237, 10.64763834,  3.54921278, 23.95718627,  3.54921278],\n",
       "       [ 2.66190959,  0.        ,  0.        ,  3.54921278,  0.        ,\n",
       "        14.19685112, 18.6333671 ,  1.77460639, 14.19685112, 13.30954793]])"
      ]
     },
     "execution_count": 59,
     "metadata": {},
     "output_type": "execute_result"
    }
   ],
   "source": [
    "B"
   ]
  },
  {
   "cell_type": "code",
   "execution_count": 60,
   "id": "8266dad3",
   "metadata": {},
   "outputs": [],
   "source": [
    "U, s, VT = np.linalg.svd(B, full_matrices = True)"
   ]
  },
  {
   "cell_type": "code",
   "execution_count": 61,
   "id": "623f738e",
   "metadata": {},
   "outputs": [
    {
     "name": "stdout",
     "output_type": "stream",
     "text": [
      "U:  [[-0.50349475 -0.32826357  0.68444393  0.31275271 -0.25236036  0.09366201]\n",
      " [-0.63170778 -0.34257728 -0.67503801  0.06155391  0.00897494  0.15504947]\n",
      " [-0.34386524 -0.09961085  0.21847092 -0.57492684  0.52054032 -0.47180689]\n",
      " [-0.30910561  0.56140574 -0.1163579   0.31240244 -0.27710086 -0.6335282 ]\n",
      " [-0.26287821  0.40689774  0.06217033 -0.62813665 -0.47525904  0.37554937]\n",
      " [-0.25405469  0.53312226  0.10356804  0.27514552  0.60217558  0.44965547]]\n",
      "s:  [61.76133769 47.43465416 18.28024796 16.03116557  9.66589321  6.15247347]\n",
      "VT:  [[-3.54711714e-01 -2.69178994e-01 -1.14114934e-01 -1.03225726e-01\n",
      "  -6.76148052e-01 -1.65371588e-01 -2.47099258e-01 -2.94050493e-01\n",
      "  -3.55743924e-01 -1.39438426e-01]\n",
      " [-1.72576570e-01 -1.21634631e-01 -5.99542991e-02  3.87214945e-03\n",
      "  -4.45593242e-01  3.60799078e-01  5.81691941e-01 -1.79227360e-02\n",
      "   4.87093680e-01  2.17109487e-01]\n",
      " [-3.20304126e-01  2.60694574e-01  4.13449528e-01 -2.19494695e-01\n",
      "   2.44114794e-01  7.66708777e-02  1.30487783e-03 -6.99709761e-01\n",
      "   4.02399525e-02  2.31603132e-01]\n",
      " [ 2.59020490e-02  3.38396290e-01  4.30901566e-02  4.60490656e-02\n",
      "  -1.05706027e-01  2.94038285e-01  3.33389468e-01  1.78112142e-01\n",
      "  -7.41529911e-01  3.00779652e-01]\n",
      " [ 3.63191861e-01 -6.73493471e-01 -3.28020704e-02  2.90287118e-01\n",
      "   1.70402316e-01  1.51133906e-01  4.65692682e-03 -3.43976647e-01\n",
      "  -1.78924003e-01  3.56260864e-01]\n",
      " [-5.83431953e-02  2.84204790e-01 -3.81819207e-01  1.28107101e-01\n",
      "  -1.18797556e-01  5.64515277e-02 -5.25586535e-01  5.60992153e-02\n",
      "   1.92726614e-01  6.47915783e-01]\n",
      " [-2.08707834e-01  1.81539436e-02 -7.88079085e-01 -1.72513354e-01\n",
      "   3.48345743e-01 -1.24675717e-01  3.12942962e-01 -2.32499863e-01\n",
      "  -1.01460471e-01 -7.81631029e-02]\n",
      " [-5.91915275e-02 -3.43505060e-01  4.79448752e-02 -8.09734833e-01\n",
      "   1.27064323e-01  1.93736248e-01 -1.35338499e-01  3.15787195e-01\n",
      "  -4.48617211e-02  2.16337039e-01]\n",
      " [ 7.44240319e-01  2.64442554e-01 -1.07035109e-01 -3.90574890e-01\n",
      "  -3.03780880e-01 -1.36947350e-01  6.80566425e-02 -3.05079070e-01\n",
      "   5.68839460e-02 -1.38958856e-02]\n",
      " [-6.97335840e-02 -8.74814313e-02  1.70000698e-01 -1.93100067e-02\n",
      "  -2.41235828e-02 -8.07637759e-01  3.03779191e-01  1.53549227e-01\n",
      "  -4.62614245e-04  4.35305686e-01]]\n"
     ]
    }
   ],
   "source": [
    "print('U: ', U)\n",
    "print('s: ', s)\n",
    "print('VT: ', VT)"
   ]
  },
  {
   "cell_type": "code",
   "execution_count": 62,
   "id": "94716c6d",
   "metadata": {
    "scrolled": true
   },
   "outputs": [
    {
     "name": "stdout",
     "output_type": "stream",
     "text": [
      "대각 행렬 S :\n",
      "[[61.76133769  0.          0.          0.          0.          0.\n",
      "   0.          0.          0.          0.        ]\n",
      " [ 0.         47.43465416  0.          0.          0.          0.\n",
      "   0.          0.          0.          0.        ]\n",
      " [ 0.          0.         18.28024796  0.          0.          0.\n",
      "   0.          0.          0.          0.        ]\n",
      " [ 0.          0.          0.         16.03116557  0.          0.\n",
      "   0.          0.          0.          0.        ]\n",
      " [ 0.          0.          0.          0.          9.66589321  0.\n",
      "   0.          0.          0.          0.        ]\n",
      " [ 0.          0.          0.          0.          0.          6.15247347\n",
      "   0.          0.          0.          0.        ]]\n"
     ]
    }
   ],
   "source": [
    "# 대각 행렬의 크기인 6 x 10의 임의의 행렬 생성\n",
    "S = np.zeros((6, 10))\n",
    "\n",
    "# 특이값을 대각행렬에 삽입\n",
    "S[:6, :6] = np.diag(s)\n",
    "\n",
    "print('대각 행렬 S :')\n",
    "print(S)"
   ]
  },
  {
   "cell_type": "markdown",
   "id": "c4b6ae09",
   "metadata": {},
   "source": [
    "### constraints 2) 2개의 Singular values를 활용"
   ]
  },
  {
   "cell_type": "code",
   "execution_count": 64,
   "id": "b8f89a82",
   "metadata": {},
   "outputs": [
    {
     "name": "stdout",
     "output_type": "stream",
     "text": [
      "대각 행렬 S :\n",
      "[[61.76  0.  ]\n",
      " [ 0.   47.43]]\n"
     ]
    }
   ],
   "source": [
    "# 특이값 상위 2개만 보존\n",
    "S = S[:2,:2]\n",
    "\n",
    "print('대각 행렬 S :')\n",
    "print(S.round(2))"
   ]
  },
  {
   "cell_type": "code",
   "execution_count": 65,
   "id": "3745a1f7",
   "metadata": {},
   "outputs": [
    {
     "name": "stdout",
     "output_type": "stream",
     "text": [
      "행렬 U :\n",
      "[[-0.5  -0.33]\n",
      " [-0.63 -0.34]\n",
      " [-0.34 -0.1 ]\n",
      " [-0.31  0.56]\n",
      " [-0.26  0.41]\n",
      " [-0.25  0.53]]\n"
     ]
    }
   ],
   "source": [
    "U = U[:,:2]\n",
    "print('행렬 U :')\n",
    "print(U.round(2))"
   ]
  },
  {
   "cell_type": "code",
   "execution_count": 66,
   "id": "cbcb7331",
   "metadata": {},
   "outputs": [
    {
     "name": "stdout",
     "output_type": "stream",
     "text": [
      "직교행렬 VT :\n",
      "[[-0.35 -0.27 -0.11 -0.1  -0.68 -0.17 -0.25 -0.29 -0.36 -0.14]\n",
      " [-0.17 -0.12 -0.06  0.   -0.45  0.36  0.58 -0.02  0.49  0.22]]\n"
     ]
    }
   ],
   "source": [
    "VT = VT[:2,:]\n",
    "print('직교행렬 VT :')\n",
    "print(VT.round(2))"
   ]
  },
  {
   "cell_type": "code",
   "execution_count": 68,
   "id": "33d85df2",
   "metadata": {},
   "outputs": [],
   "source": [
    "A = B"
   ]
  },
  {
   "cell_type": "code",
   "execution_count": 69,
   "id": "37b53055",
   "metadata": {},
   "outputs": [
    {
     "name": "stdout",
     "output_type": "stream",
     "text": [
      "[[ 8.92023238 17.02953454  9.73116259  0.         30.004418    1.62186043\n",
      "   0.          2.43279065  0.81093022  4.8655813 ]\n",
      " [20.59741431  9.80829253  0.          6.86580477 30.40570684  0.\n",
      "   0.         20.59741431  4.90414627  0.        ]\n",
      " [ 8.82746328  0.          4.90414627  1.96165851 19.61658506  0.\n",
      "   0.98082925  0.         10.78912178  0.        ]\n",
      " [ 2.24164321  3.73607201  1.4944288   1.4944288   0.         13.44985923\n",
      "  23.91086086  8.21935842 15.69150244  5.97771521]\n",
      " [ 0.          2.66190959  0.          0.          2.66190959  6.21112237\n",
      "  10.64763834  3.54921278 23.95718627  3.54921278]\n",
      " [ 2.66190959  0.          0.          3.54921278  0.         14.19685112\n",
      "  18.6333671   1.77460639 14.19685112 13.30954793]]\n",
      "[[13.72 10.26  4.48  3.15 27.96 -0.48 -1.37  9.42  3.48  0.96]\n",
      " [16.64 12.48  5.43  3.96 33.62  0.59  0.19 11.76  5.96  1.91]\n",
      " [ 8.35  6.29  2.71  2.17 16.47  1.81  2.5   6.33  5.25  1.94]\n",
      " [ 2.18  1.9   0.58  2.07  1.04 12.77 20.21  5.14 19.76  8.44]\n",
      " [ 2.43  2.02  0.7   1.75  2.38  9.65 15.24  4.43 15.18  6.45]\n",
      " [ 1.2   1.15  0.27  1.72 -0.66 11.72 18.59  4.16 17.9   7.68]]\n"
     ]
    }
   ],
   "source": [
    "A_prime = np.dot(np.dot(U,S), VT)\n",
    "print(A)\n",
    "print(A_prime.round(2))"
   ]
  },
  {
   "cell_type": "code",
   "execution_count": 70,
   "id": "e15f15de",
   "metadata": {},
   "outputs": [
    {
     "name": "stdout",
     "output_type": "stream",
     "text": [
      "term:  [[-31.09650907 -15.57106884]\n",
      " [-39.01511766 -16.25003458]\n",
      " [-21.23757706  -4.72500638]\n",
      " [-19.09077616  26.63008721]\n",
      " [-16.23570969  19.30105351]\n",
      " [-15.6907574   25.2884699 ]]\n",
      "documents:  [[-21.90746992 -16.62485475  -7.047891    -6.37535895 -41.75980818\n",
      "  -10.21357049 -15.26118074 -18.16095182 -21.97122062  -8.61190369]\n",
      " [ -8.18610992  -5.76969664  -2.84391144   0.18367407 -21.13656132\n",
      "   17.11437947  27.59235603  -0.85015879  23.10512026  10.29851345]]\n"
     ]
    }
   ],
   "source": [
    "cal_term = np.dot(U, S)\n",
    "cal_doc = np.dot(S,VT)\n",
    "\n",
    "print('term: ', cal_term)\n",
    "print('documents: ', cal_doc)"
   ]
  },
  {
   "cell_type": "code",
   "execution_count": 75,
   "id": "f3d076d0",
   "metadata": {},
   "outputs": [
    {
     "data": {
      "text/plain": [
       "0      database\n",
       "1           SQL\n",
       "2         index\n",
       "3    regression\n",
       "4    likelihood\n",
       "5        linear\n",
       "Name: Unnamed: 0, dtype: object"
      ]
     },
     "execution_count": 75,
     "metadata": {},
     "output_type": "execute_result"
    }
   ],
   "source": [
    "df['Unnamed: 0']"
   ]
  },
  {
   "cell_type": "code",
   "execution_count": 86,
   "id": "840f467d",
   "metadata": {},
   "outputs": [
    {
     "data": {
      "text/html": [
       "<div>\n",
       "<style scoped>\n",
       "    .dataframe tbody tr th:only-of-type {\n",
       "        vertical-align: middle;\n",
       "    }\n",
       "\n",
       "    .dataframe tbody tr th {\n",
       "        vertical-align: top;\n",
       "    }\n",
       "\n",
       "    .dataframe thead th {\n",
       "        text-align: right;\n",
       "    }\n",
       "</style>\n",
       "<table border=\"1\" class=\"dataframe\">\n",
       "  <thead>\n",
       "    <tr style=\"text-align: right;\">\n",
       "      <th></th>\n",
       "      <th>0</th>\n",
       "      <th>1</th>\n",
       "    </tr>\n",
       "    <tr>\n",
       "      <th></th>\n",
       "      <th></th>\n",
       "      <th></th>\n",
       "    </tr>\n",
       "  </thead>\n",
       "  <tbody>\n",
       "    <tr>\n",
       "      <th>database</th>\n",
       "      <td>-31.096509</td>\n",
       "      <td>-15.571069</td>\n",
       "    </tr>\n",
       "    <tr>\n",
       "      <th>SQL</th>\n",
       "      <td>-39.015118</td>\n",
       "      <td>-16.250035</td>\n",
       "    </tr>\n",
       "    <tr>\n",
       "      <th>index</th>\n",
       "      <td>-21.237577</td>\n",
       "      <td>-4.725006</td>\n",
       "    </tr>\n",
       "    <tr>\n",
       "      <th>regression</th>\n",
       "      <td>-19.090776</td>\n",
       "      <td>26.630087</td>\n",
       "    </tr>\n",
       "    <tr>\n",
       "      <th>likelihood</th>\n",
       "      <td>-16.235710</td>\n",
       "      <td>19.301054</td>\n",
       "    </tr>\n",
       "    <tr>\n",
       "      <th>linear</th>\n",
       "      <td>-15.690757</td>\n",
       "      <td>25.288470</td>\n",
       "    </tr>\n",
       "  </tbody>\n",
       "</table>\n",
       "</div>"
      ],
      "text/plain": [
       "                    0          1\n",
       "                                \n",
       "database   -31.096509 -15.571069\n",
       "SQL        -39.015118 -16.250035\n",
       "index      -21.237577  -4.725006\n",
       "regression -19.090776  26.630087\n",
       "likelihood -16.235710  19.301054\n",
       "linear     -15.690757  25.288470"
      ]
     },
     "execution_count": 86,
     "metadata": {},
     "output_type": "execute_result"
    }
   ],
   "source": [
    "term_lsm = pd.DataFrame(cal_term, index=df['Unnamed: 0'])\n",
    "term_lsm.index.names = ['']\n",
    "\n",
    "term_lsm"
   ]
  },
  {
   "cell_type": "code",
   "execution_count": 91,
   "id": "d73ea43e",
   "metadata": {},
   "outputs": [
    {
     "data": {
      "text/html": [
       "<div>\n",
       "<style scoped>\n",
       "    .dataframe tbody tr th:only-of-type {\n",
       "        vertical-align: middle;\n",
       "    }\n",
       "\n",
       "    .dataframe tbody tr th {\n",
       "        vertical-align: top;\n",
       "    }\n",
       "\n",
       "    .dataframe thead th {\n",
       "        text-align: right;\n",
       "    }\n",
       "</style>\n",
       "<table border=\"1\" class=\"dataframe\">\n",
       "  <thead>\n",
       "    <tr style=\"text-align: right;\">\n",
       "      <th></th>\n",
       "      <th>D1</th>\n",
       "      <th>D2</th>\n",
       "      <th>D3</th>\n",
       "      <th>D4</th>\n",
       "      <th>D5</th>\n",
       "      <th>D6</th>\n",
       "      <th>D7</th>\n",
       "      <th>D8</th>\n",
       "      <th>D9</th>\n",
       "      <th>D10</th>\n",
       "    </tr>\n",
       "  </thead>\n",
       "  <tbody>\n",
       "    <tr>\n",
       "      <th>0</th>\n",
       "      <td>-21.90747</td>\n",
       "      <td>-16.624855</td>\n",
       "      <td>-7.047891</td>\n",
       "      <td>-6.375359</td>\n",
       "      <td>-41.759808</td>\n",
       "      <td>-10.213570</td>\n",
       "      <td>-15.261181</td>\n",
       "      <td>-18.160952</td>\n",
       "      <td>-21.971221</td>\n",
       "      <td>-8.611904</td>\n",
       "    </tr>\n",
       "    <tr>\n",
       "      <th>1</th>\n",
       "      <td>-8.18611</td>\n",
       "      <td>-5.769697</td>\n",
       "      <td>-2.843911</td>\n",
       "      <td>0.183674</td>\n",
       "      <td>-21.136561</td>\n",
       "      <td>17.114379</td>\n",
       "      <td>27.592356</td>\n",
       "      <td>-0.850159</td>\n",
       "      <td>23.105120</td>\n",
       "      <td>10.298513</td>\n",
       "    </tr>\n",
       "  </tbody>\n",
       "</table>\n",
       "</div>"
      ],
      "text/plain": [
       "         D1         D2        D3        D4         D5         D6         D7  \\\n",
       "0 -21.90747 -16.624855 -7.047891 -6.375359 -41.759808 -10.213570 -15.261181   \n",
       "1  -8.18611  -5.769697 -2.843911  0.183674 -21.136561  17.114379  27.592356   \n",
       "\n",
       "          D8         D9        D10  \n",
       "0 -18.160952 -21.971221  -8.611904  \n",
       "1  -0.850159  23.105120  10.298513  "
      ]
     },
     "execution_count": 91,
     "metadata": {},
     "output_type": "execute_result"
    }
   ],
   "source": [
    "doc_lsm = pd.DataFrame(cal_doc, columns=df.columns[1:])\n",
    "\n",
    "doc_lsm"
   ]
  },
  {
   "cell_type": "markdown",
   "id": "c4328e4f",
   "metadata": {},
   "source": [
    "### 요구사항 1) 단어 'database'와 가장 유사한 단어 탐색"
   ]
  },
  {
   "cell_type": "code",
   "execution_count": 105,
   "id": "0cf9a6f4",
   "metadata": {},
   "outputs": [],
   "source": [
    "def cos_sim(A, B):\n",
    "    return np.dot(A, B) / (np.linalg.norm(A) * np.linalg.norm(B))"
   ]
  },
  {
   "cell_type": "code",
   "execution_count": 108,
   "id": "58e6966a",
   "metadata": {},
   "outputs": [
    {
     "name": "stdout",
     "output_type": "stream",
     "text": [
      "1 번째 term과 term 'database'의 cosin similarity:  0.9999999999999998\n",
      "2 번째 term과 term 'database'의 cosin similarity:  0.9975802836629114\n",
      "3 번째 term과 term 'database'의 cosin similarity:  0.9700604744635943\n",
      "4 번째 term과 term 'database'의 cosin similarity:  0.15708251340435264\n",
      "5 번째 term과 term 'database'의 cosin similarity:  0.2329581273492023\n",
      "6 번째 term과 term 'database'의 cosin similarity:  0.0909754091396296\n"
     ]
    }
   ],
   "source": [
    "for i in range(len(term_lsm)):\n",
    "    print(i+1, \"번째 term과 term 'database'의 cosin similarity: \",\n",
    "          cos_sim(term_lsm.iloc[i],term_lsm.iloc[0]))"
   ]
  },
  {
   "cell_type": "code",
   "execution_count": 114,
   "id": "4e2d9447",
   "metadata": {},
   "outputs": [],
   "source": [
    "cos_sim_term_lst = []\n",
    "for i in range(len(term_lsm)):\n",
    "    cos_sim_term_lst.append(cos_sim(term_lsm.iloc[i],term_lsm.iloc[0]))"
   ]
  },
  {
   "cell_type": "code",
   "execution_count": 115,
   "id": "94aa49f3",
   "metadata": {},
   "outputs": [
    {
     "data": {
      "text/plain": [
       "[0.9999999999999998,\n",
       " 0.9975802836629114,\n",
       " 0.9700604744635943,\n",
       " 0.15708251340435264,\n",
       " 0.2329581273492023,\n",
       " 0.0909754091396296]"
      ]
     },
     "execution_count": 115,
     "metadata": {},
     "output_type": "execute_result"
    }
   ],
   "source": [
    "cos_sim_term_lst"
   ]
  },
  {
   "cell_type": "code",
   "execution_count": 127,
   "id": "b5b7ebf7",
   "metadata": {},
   "outputs": [
    {
     "data": {
      "text/html": [
       "<div>\n",
       "<style scoped>\n",
       "    .dataframe tbody tr th:only-of-type {\n",
       "        vertical-align: middle;\n",
       "    }\n",
       "\n",
       "    .dataframe tbody tr th {\n",
       "        vertical-align: top;\n",
       "    }\n",
       "\n",
       "    .dataframe thead th {\n",
       "        text-align: right;\n",
       "    }\n",
       "</style>\n",
       "<table border=\"1\" class=\"dataframe\">\n",
       "  <thead>\n",
       "    <tr style=\"text-align: right;\">\n",
       "      <th></th>\n",
       "      <th>cosine similarity</th>\n",
       "    </tr>\n",
       "    <tr>\n",
       "      <th></th>\n",
       "      <th></th>\n",
       "    </tr>\n",
       "  </thead>\n",
       "  <tbody>\n",
       "    <tr>\n",
       "      <th>database</th>\n",
       "      <td>1.000000</td>\n",
       "    </tr>\n",
       "    <tr>\n",
       "      <th>SQL</th>\n",
       "      <td>0.997580</td>\n",
       "    </tr>\n",
       "    <tr>\n",
       "      <th>index</th>\n",
       "      <td>0.970060</td>\n",
       "    </tr>\n",
       "    <tr>\n",
       "      <th>likelihood</th>\n",
       "      <td>0.232958</td>\n",
       "    </tr>\n",
       "    <tr>\n",
       "      <th>regression</th>\n",
       "      <td>0.157083</td>\n",
       "    </tr>\n",
       "    <tr>\n",
       "      <th>linear</th>\n",
       "      <td>0.090975</td>\n",
       "    </tr>\n",
       "  </tbody>\n",
       "</table>\n",
       "</div>"
      ],
      "text/plain": [
       "            cosine similarity\n",
       "                             \n",
       "database             1.000000\n",
       "SQL                  0.997580\n",
       "index                0.970060\n",
       "likelihood           0.232958\n",
       "regression           0.157083\n",
       "linear               0.090975"
      ]
     },
     "execution_count": 127,
     "metadata": {},
     "output_type": "execute_result"
    }
   ],
   "source": [
    "cos_sim_term_df = pd.DataFrame(cos_sim_term_lst, index=df['Unnamed: 0'])\n",
    "cos_sim_term_df.index.names = ['']\n",
    "cos_sim_term_df = cos_sim_term_df.rename(columns={0 : 'cosine similarity'})\n",
    "\n",
    "cos_sim_term_df.sort_values('cosine similarity', ascending=False)"
   ]
  },
  {
   "cell_type": "markdown",
   "id": "057a87e9",
   "metadata": {},
   "source": [
    "### 요구사항 2) 문서 'D6'와 가장 유사한 문서 탐색"
   ]
  },
  {
   "cell_type": "code",
   "execution_count": 149,
   "id": "b829dd8e",
   "metadata": {},
   "outputs": [
    {
     "name": "stdout",
     "output_type": "stream",
     "text": [
      "1 번째 doc과 doc D6의 cosin similarity:  0.1794710410884455\n",
      "2 번째 doc과 doc D6의 cosin similarity:  0.20259206878901942\n",
      "3 번째 doc과 doc D6의 cosin similarity:  0.15390588728186597\n",
      "4 번째 doc과 doc D6의 cosin similarity:  0.5369796834566384\n",
      "5 번째 doc과 doc D6의 cosin similarity:  0.0694424192215988\n",
      "6 번째 doc과 doc D6의 cosin similarity:  1.0000000000000002\n",
      "7 번째 doc과 doc D6의 cosin similarity:  0.9994609877171637\n",
      "8 번째 doc과 doc D6의 cosin similarity:  0.4717481732489627\n",
      "9 번째 doc과 doc D6의 cosin similarity:  0.9754154939824525\n",
      "10 번째 doc과 doc D6의 cosin similarity:  0.987481971384068\n"
     ]
    }
   ],
   "source": [
    "for i in range(len(doc_lsm.columns)):\n",
    "    print(i+1, \"번째 doc과 doc D6의 cosin similarity: \",\n",
    "          cos_sim(doc_lsm.iloc[:, i],doc_lsm.iloc[:, 5]))"
   ]
  },
  {
   "cell_type": "code",
   "execution_count": 150,
   "id": "a3a205da",
   "metadata": {},
   "outputs": [],
   "source": [
    "cos_sim_doc_lst = []\n",
    "for i in range(len(doc_lsm.columns)):\n",
    "    cos_sim_doc_lst.append(cos_sim(doc_lsm.iloc[:, i],doc_lsm.iloc[:, 5]))"
   ]
  },
  {
   "cell_type": "code",
   "execution_count": 151,
   "id": "e020645a",
   "metadata": {},
   "outputs": [
    {
     "data": {
      "text/plain": [
       "[0.1794710410884455,\n",
       " 0.20259206878901942,\n",
       " 0.15390588728186597,\n",
       " 0.5369796834566384,\n",
       " 0.0694424192215988,\n",
       " 1.0000000000000002,\n",
       " 0.9994609877171637,\n",
       " 0.4717481732489627,\n",
       " 0.9754154939824525,\n",
       " 0.987481971384068]"
      ]
     },
     "execution_count": 151,
     "metadata": {},
     "output_type": "execute_result"
    }
   ],
   "source": [
    "cos_sim_doc_lst"
   ]
  },
  {
   "cell_type": "code",
   "execution_count": 152,
   "id": "27486986",
   "metadata": {},
   "outputs": [
    {
     "data": {
      "text/html": [
       "<div>\n",
       "<style scoped>\n",
       "    .dataframe tbody tr th:only-of-type {\n",
       "        vertical-align: middle;\n",
       "    }\n",
       "\n",
       "    .dataframe tbody tr th {\n",
       "        vertical-align: top;\n",
       "    }\n",
       "\n",
       "    .dataframe thead th {\n",
       "        text-align: right;\n",
       "    }\n",
       "</style>\n",
       "<table border=\"1\" class=\"dataframe\">\n",
       "  <thead>\n",
       "    <tr style=\"text-align: right;\">\n",
       "      <th></th>\n",
       "      <th>cosine similarity</th>\n",
       "    </tr>\n",
       "  </thead>\n",
       "  <tbody>\n",
       "    <tr>\n",
       "      <th>D6</th>\n",
       "      <td>1.000000</td>\n",
       "    </tr>\n",
       "    <tr>\n",
       "      <th>D7</th>\n",
       "      <td>0.999461</td>\n",
       "    </tr>\n",
       "    <tr>\n",
       "      <th>D10</th>\n",
       "      <td>0.987482</td>\n",
       "    </tr>\n",
       "    <tr>\n",
       "      <th>D9</th>\n",
       "      <td>0.975415</td>\n",
       "    </tr>\n",
       "    <tr>\n",
       "      <th>D4</th>\n",
       "      <td>0.536980</td>\n",
       "    </tr>\n",
       "    <tr>\n",
       "      <th>D8</th>\n",
       "      <td>0.471748</td>\n",
       "    </tr>\n",
       "    <tr>\n",
       "      <th>D2</th>\n",
       "      <td>0.202592</td>\n",
       "    </tr>\n",
       "    <tr>\n",
       "      <th>D1</th>\n",
       "      <td>0.179471</td>\n",
       "    </tr>\n",
       "    <tr>\n",
       "      <th>D3</th>\n",
       "      <td>0.153906</td>\n",
       "    </tr>\n",
       "    <tr>\n",
       "      <th>D5</th>\n",
       "      <td>0.069442</td>\n",
       "    </tr>\n",
       "  </tbody>\n",
       "</table>\n",
       "</div>"
      ],
      "text/plain": [
       "     cosine similarity\n",
       "D6            1.000000\n",
       "D7            0.999461\n",
       "D10           0.987482\n",
       "D9            0.975415\n",
       "D4            0.536980\n",
       "D8            0.471748\n",
       "D2            0.202592\n",
       "D1            0.179471\n",
       "D3            0.153906\n",
       "D5            0.069442"
      ]
     },
     "execution_count": 152,
     "metadata": {},
     "output_type": "execute_result"
    }
   ],
   "source": [
    "cos_sim_doc_df = pd.DataFrame(cos_sim_doc_lst, index=df.columns[1:] )\n",
    "cos_sim_doc_df = cos_sim_doc_df.rename(columns={0 : 'cosine similarity'})\n",
    "\n",
    "\n",
    "cos_sim_doc_df.sort_values('cosine similarity', ascending=False)"
   ]
  }
 ],
 "metadata": {
  "kernelspec": {
   "display_name": "Python 3 (ipykernel)",
   "language": "python",
   "name": "python3"
  },
  "language_info": {
   "codemirror_mode": {
    "name": "ipython",
    "version": 3
   },
   "file_extension": ".py",
   "mimetype": "text/x-python",
   "name": "python",
   "nbconvert_exporter": "python",
   "pygments_lexer": "ipython3",
   "version": "3.8.12"
  }
 },
 "nbformat": 4,
 "nbformat_minor": 5
}
