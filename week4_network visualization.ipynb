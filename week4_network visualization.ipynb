{
 "cells": [
  {
   "cell_type": "code",
   "execution_count": 45,
   "id": "c0398856",
   "metadata": {},
   "outputs": [],
   "source": [
    "import pandas as pd\n",
    "import networkx as nx\n",
    "import matplotlib.pyplot as plt\n",
    "%matplotlib inline\n",
    "import warnings; warnings.simplefilter('ignore')\n",
    "import matplotlib.font_manager as fm\n",
    "from matplotlib import rc\n",
    "font_name = fm.FontProperties(fname=\"c:/Windows/Fonts/malgun.ttf\").get_name()\n",
    "rc('font', family=font_name)"
   ]
  },
  {
   "cell_type": "code",
   "execution_count": 46,
   "id": "adc6b479",
   "metadata": {
    "scrolled": true
   },
   "outputs": [
    {
     "data": {
      "text/html": [
       "<div>\n",
       "<style scoped>\n",
       "    .dataframe tbody tr th:only-of-type {\n",
       "        vertical-align: middle;\n",
       "    }\n",
       "\n",
       "    .dataframe tbody tr th {\n",
       "        vertical-align: top;\n",
       "    }\n",
       "\n",
       "    .dataframe thead th {\n",
       "        text-align: right;\n",
       "    }\n",
       "</style>\n",
       "<table border=\"1\" class=\"dataframe\">\n",
       "  <thead>\n",
       "    <tr style=\"text-align: right;\">\n",
       "      <th></th>\n",
       "      <th>수빈</th>\n",
       "      <th>다영</th>\n",
       "      <th>루다</th>\n",
       "      <th>연정</th>\n",
       "      <th>다원</th>\n",
       "      <th>보나</th>\n",
       "    </tr>\n",
       "  </thead>\n",
       "  <tbody>\n",
       "    <tr>\n",
       "      <th>수빈</th>\n",
       "      <td>0.000000</td>\n",
       "      <td>0.818881</td>\n",
       "      <td>0.541090</td>\n",
       "      <td>0.747854</td>\n",
       "      <td>0.632599</td>\n",
       "      <td>0.669186</td>\n",
       "    </tr>\n",
       "    <tr>\n",
       "      <th>다영</th>\n",
       "      <td>0.818881</td>\n",
       "      <td>0.000000</td>\n",
       "      <td>0.752802</td>\n",
       "      <td>0.763455</td>\n",
       "      <td>0.791238</td>\n",
       "      <td>0.838849</td>\n",
       "    </tr>\n",
       "    <tr>\n",
       "      <th>루다</th>\n",
       "      <td>0.541090</td>\n",
       "      <td>0.752802</td>\n",
       "      <td>0.000000</td>\n",
       "      <td>0.818723</td>\n",
       "      <td>0.819330</td>\n",
       "      <td>0.587130</td>\n",
       "    </tr>\n",
       "    <tr>\n",
       "      <th>연정</th>\n",
       "      <td>0.747854</td>\n",
       "      <td>0.763455</td>\n",
       "      <td>0.818723</td>\n",
       "      <td>0.000000</td>\n",
       "      <td>0.820445</td>\n",
       "      <td>0.740356</td>\n",
       "    </tr>\n",
       "    <tr>\n",
       "      <th>다원</th>\n",
       "      <td>0.632599</td>\n",
       "      <td>0.791238</td>\n",
       "      <td>0.819330</td>\n",
       "      <td>0.820445</td>\n",
       "      <td>0.000000</td>\n",
       "      <td>0.678883</td>\n",
       "    </tr>\n",
       "    <tr>\n",
       "      <th>보나</th>\n",
       "      <td>0.669186</td>\n",
       "      <td>0.838849</td>\n",
       "      <td>0.587130</td>\n",
       "      <td>0.740356</td>\n",
       "      <td>0.678883</td>\n",
       "      <td>0.000000</td>\n",
       "    </tr>\n",
       "  </tbody>\n",
       "</table>\n",
       "</div>"
      ],
      "text/plain": [
       "          수빈        다영        루다        연정        다원        보나\n",
       "수빈  0.000000  0.818881  0.541090  0.747854  0.632599  0.669186\n",
       "다영  0.818881  0.000000  0.752802  0.763455  0.791238  0.838849\n",
       "루다  0.541090  0.752802  0.000000  0.818723  0.819330  0.587130\n",
       "연정  0.747854  0.763455  0.818723  0.000000  0.820445  0.740356\n",
       "다원  0.632599  0.791238  0.819330  0.820445  0.000000  0.678883\n",
       "보나  0.669186  0.838849  0.587130  0.740356  0.678883  0.000000"
      ]
     },
     "execution_count": 46,
     "metadata": {},
     "output_type": "execute_result"
    }
   ],
   "source": [
    "df = pd.read_csv(r'C:\\Users\\moon_\\OneDrive - konkuk.ac.kr\\바탕 화면\\과제-DESKTOP-GPI9J2N\\3-1\\데이터애널리틱스/week4onm.csv', index_col=0)\n",
    "df"
   ]
  },
  {
   "cell_type": "code",
   "execution_count": 47,
   "id": "8b461f21",
   "metadata": {},
   "outputs": [
    {
     "data": {
      "text/plain": [
       "['수빈', '다영', '루다', '연정', '다원', '보나']"
      ]
     },
     "execution_count": 47,
     "metadata": {},
     "output_type": "execute_result"
    }
   ],
   "source": [
    "member = df.columns.tolist()\n",
    "member"
   ]
  },
  {
   "cell_type": "code",
   "execution_count": 48,
   "id": "26a9b843",
   "metadata": {},
   "outputs": [],
   "source": [
    "G_weighted = nx.Graph()\n",
    "\n",
    "G_weighted.add_edge(member[0],  member[1], weight=df.iloc[0, 1])\n",
    "G_weighted.add_edge(member[0],  member[2], weight=df.iloc[0, 2])\n",
    "G_weighted.add_edge(member[0],  member[3], weight=df.iloc[0, 3])\n",
    "G_weighted.add_edge(member[0],  member[4], weight=df.iloc[0, 4])\n",
    "G_weighted.add_edge(member[0],  member[5], weight=df.iloc[0, 5])\n",
    "\n",
    "G_weighted.add_edge(member[1],  member[2], weight=df.iloc[1, 2])\n",
    "G_weighted.add_edge(member[1],  member[3], weight=df.iloc[1, 3])\n",
    "G_weighted.add_edge(member[1],  member[4], weight=df.iloc[1, 4])\n",
    "G_weighted.add_edge(member[1],  member[5], weight=df.iloc[1, 5])\n",
    "\n",
    "G_weighted.add_edge(member[2],  member[3], weight=df.iloc[2, 3])\n",
    "G_weighted.add_edge(member[2],  member[4], weight=df.iloc[2, 4])\n",
    "G_weighted.add_edge(member[2],  member[5], weight=df.iloc[2, 5])\n",
    "\n",
    "G_weighted.add_edge(member[3],  member[4], weight=df.iloc[3, 4])\n",
    "G_weighted.add_edge(member[3],  member[5], weight=df.iloc[3, 5])\n",
    "\n",
    "G_weighted.add_edge(member[4],  member[5], weight=df.iloc[4, 5])"
   ]
  },
  {
   "cell_type": "code",
   "execution_count": 53,
   "id": "8a6bd1e5",
   "metadata": {},
   "outputs": [
    {
     "data": {
      "image/png": "[encoded data removed]",
      "text/plain": [
       "<Figure size 432x288 with 1 Axes>"
      ]
     },
     "metadata": {},
     "output_type": "display_data"
    }
   ],
   "source": [
    "e_1 = [(u, v) for (u, v, d) in G_weighted.edges(data=True) if d['weight'] >= 0.8]\n",
    "e_2 = [(u, v) for (u, v, d) in G_weighted.edges(data=True) if ((d['weight'] < 0.8) & (d['weight'] >= 0.6))]\n",
    "e_3 = [(u, v) for (u, v, d) in G_weighted.edges(data=True) if ((d['weight'] < 0.6) & (d['weight'] >= 0.4))]\n",
    "\n",
    "pos = nx.circular_layout(G_weighted)\n",
    "\n",
    "#nodes\n",
    "nx.draw_networkx_nodes(G_weighted, pos, node_size=700)\n",
    "\n",
    "#edges\n",
    "nx.draw_networkx_edges(G_weighted, pos, edgelist=e_1, edge_color='r', width=9)\n",
    "nx.draw_networkx_edges(G_weighted, pos, edgelist=e_2, alpha=0.4, edge_color='b', width=5)\n",
    "nx.draw_networkx_edges(G_weighted, pos, edgelist=e_3, alpha=0.2, width=3)\n",
    "\n",
    "\n",
    "#labels\n",
    "nx.draw_networkx_labels(G_weighted, pos,font_family=font_name, font_size=14)\n",
    "\n",
    "plt.title('Network visualization')\n",
    "plt.axis('off')\n",
    "plt.show();"
   ]
  }
 ],
 "metadata": {
  "kernelspec": {
   "display_name": "Python 3 (ipykernel)",
   "language": "python",
   "name": "python3"
  },
  "language_info": {
   "codemirror_mode": {
    "name": "ipython",
    "version": 3
   },
   "file_extension": ".py",
   "mimetype": "text/x-python",
   "name": "python",
   "nbconvert_exporter": "python",
   "pygments_lexer": "ipython3",
   "version": "3.8.12"
  }
 },
 "nbformat": 4,
 "nbformat_minor": 5
}
